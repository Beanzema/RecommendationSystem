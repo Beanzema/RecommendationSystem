{
 "cells": [
  {
   "cell_type": "markdown",
   "metadata": {},
   "source": [
    "# 1. Preprocessing"
   ]
  },
  {
   "cell_type": "code",
   "execution_count": 1,
   "metadata": {},
   "outputs": [],
   "source": [
    "import pandas as pd\n",
    "import numpy as np"
   ]
  },
  {
   "cell_type": "code",
   "execution_count": 2,
   "metadata": {},
   "outputs": [],
   "source": [
    "df_gender = pd.read_csv('dataset_WWW2019/dataset_WWW_Checkins_anonymized.txt', sep = '\\t', header = None)\n",
    "#df_friends = pd.read_csv('dataset_WWW2019/dataset_WWW_friendship_new.txt', sep = '\\t', header = None)\n",
    "df_poi = pd.read_csv('dataset_WWW2019/raw_Checkins_anonymized.txt', sep = '\\t', header = None)"
   ]
  },
  {
   "cell_type": "code",
   "execution_count": 6,
   "metadata": {},
   "outputs": [],
   "source": [
    "df_checkin2 = df_checkin.rename(columns={0:'User_ID' , 1: 'Venue_ID', 2:'UTC_Time', 3:'Timezone_Offset'})"
   ]
  },
  {
   "cell_type": "code",
   "execution_count": 10,
   "metadata": {},
   "outputs": [],
   "source": [
    "df_poi = pd.read_csv('C:/Users/piai/Desktop/code_file/dataset_WWW2019/raw_POIs.txt',sep = '\\t',header=None, encoding= 'utf-8')"
   ]
  },
  {
   "cell_type": "code",
   "execution_count": 11,
   "metadata": {},
   "outputs": [
    {
     "data": {
      "text/html": [
       "<div>\n",
       "<style scoped>\n",
       "    .dataframe tbody tr th:only-of-type {\n",
       "        vertical-align: middle;\n",
       "    }\n",
       "\n",
       "    .dataframe tbody tr th {\n",
       "        vertical-align: top;\n",
       "    }\n",
       "\n",
       "    .dataframe thead th {\n",
       "        text-align: right;\n",
       "    }\n",
       "</style>\n",
       "<table border=\"1\" class=\"dataframe\">\n",
       "  <thead>\n",
       "    <tr style=\"text-align: right;\">\n",
       "      <th></th>\n",
       "      <th>0</th>\n",
       "      <th>1</th>\n",
       "      <th>2</th>\n",
       "      <th>3</th>\n",
       "      <th>4</th>\n",
       "    </tr>\n",
       "  </thead>\n",
       "  <tbody>\n",
       "    <tr>\n",
       "      <th>0</th>\n",
       "      <td>3fd66200f964a52000e61ee3</td>\n",
       "      <td>40.729209</td>\n",
       "      <td>-73.998753</td>\n",
       "      <td>Post Office</td>\n",
       "      <td>US</td>\n",
       "    </tr>\n",
       "    <tr>\n",
       "      <th>1</th>\n",
       "      <td>3fd66200f964a52000e71ee3</td>\n",
       "      <td>40.733596</td>\n",
       "      <td>-74.003139</td>\n",
       "      <td>Jazz Club</td>\n",
       "      <td>US</td>\n",
       "    </tr>\n",
       "    <tr>\n",
       "      <th>2</th>\n",
       "      <td>3fd66200f964a52000e81ee3</td>\n",
       "      <td>40.758102</td>\n",
       "      <td>-73.975734</td>\n",
       "      <td>Gym</td>\n",
       "      <td>US</td>\n",
       "    </tr>\n",
       "    <tr>\n",
       "      <th>3</th>\n",
       "      <td>3fd66200f964a52000ea1ee3</td>\n",
       "      <td>40.732456</td>\n",
       "      <td>-74.003755</td>\n",
       "      <td>Indian Restaurant</td>\n",
       "      <td>US</td>\n",
       "    </tr>\n",
       "    <tr>\n",
       "      <th>4</th>\n",
       "      <td>3fd66200f964a52000ec1ee3</td>\n",
       "      <td>42.345907</td>\n",
       "      <td>-71.087001</td>\n",
       "      <td>Indian Restaurant</td>\n",
       "      <td>US</td>\n",
       "    </tr>\n",
       "    <tr>\n",
       "      <th>5</th>\n",
       "      <td>3fd66200f964a52000ee1ee3</td>\n",
       "      <td>39.933178</td>\n",
       "      <td>-75.159262</td>\n",
       "      <td>Sandwich Place</td>\n",
       "      <td>US</td>\n",
       "    </tr>\n",
       "    <tr>\n",
       "      <th>6</th>\n",
       "      <td>3fd66200f964a52000ef1ee3</td>\n",
       "      <td>34.188944</td>\n",
       "      <td>-118.320329</td>\n",
       "      <td>Karaoke Bar</td>\n",
       "      <td>US</td>\n",
       "    </tr>\n",
       "    <tr>\n",
       "      <th>7</th>\n",
       "      <td>3fd66200f964a52000f01ee3</td>\n",
       "      <td>34.010279</td>\n",
       "      <td>-118.495523</td>\n",
       "      <td>Beer Garden</td>\n",
       "      <td>US</td>\n",
       "    </tr>\n",
       "    <tr>\n",
       "      <th>8</th>\n",
       "      <td>3fd66200f964a52000f11ee3</td>\n",
       "      <td>40.652766</td>\n",
       "      <td>-74.003092</td>\n",
       "      <td>Bowling Alley</td>\n",
       "      <td>US</td>\n",
       "    </tr>\n",
       "    <tr>\n",
       "      <th>9</th>\n",
       "      <td>3fd66200f964a52001e51ee3</td>\n",
       "      <td>40.726961</td>\n",
       "      <td>-73.980039</td>\n",
       "      <td>Dive Bar</td>\n",
       "      <td>US</td>\n",
       "    </tr>\n",
       "  </tbody>\n",
       "</table>\n",
       "</div>"
      ],
      "text/plain": [
       "                          0          1           2                  3   4\n",
       "0  3fd66200f964a52000e61ee3  40.729209  -73.998753        Post Office  US\n",
       "1  3fd66200f964a52000e71ee3  40.733596  -74.003139          Jazz Club  US\n",
       "2  3fd66200f964a52000e81ee3  40.758102  -73.975734                Gym  US\n",
       "3  3fd66200f964a52000ea1ee3  40.732456  -74.003755  Indian Restaurant  US\n",
       "4  3fd66200f964a52000ec1ee3  42.345907  -71.087001  Indian Restaurant  US\n",
       "5  3fd66200f964a52000ee1ee3  39.933178  -75.159262     Sandwich Place  US\n",
       "6  3fd66200f964a52000ef1ee3  34.188944 -118.320329        Karaoke Bar  US\n",
       "7  3fd66200f964a52000f01ee3  34.010279 -118.495523        Beer Garden  US\n",
       "8  3fd66200f964a52000f11ee3  40.652766  -74.003092      Bowling Alley  US\n",
       "9  3fd66200f964a52001e51ee3  40.726961  -73.980039           Dive Bar  US"
      ]
     },
     "execution_count": 11,
     "metadata": {},
     "output_type": "execute_result"
    }
   ],
   "source": [
    "df_poi.head(10)"
   ]
  },
  {
   "cell_type": "code",
   "execution_count": 12,
   "metadata": {},
   "outputs": [],
   "source": [
    "df_poi = df_poi.rename(columns={0:'Venue_ID' , 1: 'Lat', 2:'Long', 3:'Category', 4:'Country_Code'})"
   ]
  },
  {
   "cell_type": "code",
   "execution_count": 13,
   "metadata": {},
   "outputs": [],
   "source": [
    "df = df_checkin2.merge(df_poi, on='Venue_ID', how='left')"
   ]
  },
  {
   "cell_type": "code",
   "execution_count": 14,
   "metadata": {},
   "outputs": [
    {
     "data": {
      "text/html": [
       "<div>\n",
       "<style scoped>\n",
       "    .dataframe tbody tr th:only-of-type {\n",
       "        vertical-align: middle;\n",
       "    }\n",
       "\n",
       "    .dataframe tbody tr th {\n",
       "        vertical-align: top;\n",
       "    }\n",
       "\n",
       "    .dataframe thead th {\n",
       "        text-align: right;\n",
       "    }\n",
       "</style>\n",
       "<table border=\"1\" class=\"dataframe\">\n",
       "  <thead>\n",
       "    <tr style=\"text-align: right;\">\n",
       "      <th></th>\n",
       "      <th>User_ID</th>\n",
       "      <th>Venue_ID</th>\n",
       "      <th>UTC_Time</th>\n",
       "      <th>Timezone_Offset</th>\n",
       "      <th>Lat</th>\n",
       "      <th>Long</th>\n",
       "      <th>Category</th>\n",
       "      <th>Country_Code</th>\n",
       "    </tr>\n",
       "  </thead>\n",
       "  <tbody>\n",
       "    <tr>\n",
       "      <th>0</th>\n",
       "      <td>546830</td>\n",
       "      <td>4f5e3a72e4b053fd6a4313f6</td>\n",
       "      <td>Tue Apr 03 18:00:06 +0000 2012</td>\n",
       "      <td>240.0</td>\n",
       "      <td>55.696132</td>\n",
       "      <td>37.557842</td>\n",
       "      <td>Comedy Club</td>\n",
       "      <td>RU</td>\n",
       "    </tr>\n",
       "    <tr>\n",
       "      <th>1</th>\n",
       "      <td>822121</td>\n",
       "      <td>4b4b87b5f964a5204a9f26e3</td>\n",
       "      <td>Tue Apr 03 18:00:07 +0000 2012</td>\n",
       "      <td>180.0</td>\n",
       "      <td>41.029717</td>\n",
       "      <td>28.974420</td>\n",
       "      <td>Bar</td>\n",
       "      <td>TR</td>\n",
       "    </tr>\n",
       "    <tr>\n",
       "      <th>2</th>\n",
       "      <td>2277773</td>\n",
       "      <td>4a85b1b3f964a520eefe1fe3</td>\n",
       "      <td>Tue Apr 03 18:00:08 +0000 2012</td>\n",
       "      <td>-240.0</td>\n",
       "      <td>40.748954</td>\n",
       "      <td>-73.992257</td>\n",
       "      <td>Coffee Shop</td>\n",
       "      <td>US</td>\n",
       "    </tr>\n",
       "    <tr>\n",
       "      <th>3</th>\n",
       "      <td>208842</td>\n",
       "      <td>4b4606f2f964a520751426e3</td>\n",
       "      <td>Tue Apr 03 18:00:08 +0000 2012</td>\n",
       "      <td>-300.0</td>\n",
       "      <td>30.270786</td>\n",
       "      <td>-97.753153</td>\n",
       "      <td>Office</td>\n",
       "      <td>US</td>\n",
       "    </tr>\n",
       "    <tr>\n",
       "      <th>4</th>\n",
       "      <td>1139878</td>\n",
       "      <td>4d9254ef62ad5481fa6e6a4b</td>\n",
       "      <td>Tue Apr 03 18:00:08 +0000 2012</td>\n",
       "      <td>-180.0</td>\n",
       "      <td>-29.169531</td>\n",
       "      <td>-51.179939</td>\n",
       "      <td>School</td>\n",
       "      <td>BR</td>\n",
       "    </tr>\n",
       "  </tbody>\n",
       "</table>\n",
       "</div>"
      ],
      "text/plain": [
       "   User_ID                  Venue_ID                        UTC_Time  \\\n",
       "0   546830  4f5e3a72e4b053fd6a4313f6  Tue Apr 03 18:00:06 +0000 2012   \n",
       "1   822121  4b4b87b5f964a5204a9f26e3  Tue Apr 03 18:00:07 +0000 2012   \n",
       "2  2277773  4a85b1b3f964a520eefe1fe3  Tue Apr 03 18:00:08 +0000 2012   \n",
       "3   208842  4b4606f2f964a520751426e3  Tue Apr 03 18:00:08 +0000 2012   \n",
       "4  1139878  4d9254ef62ad5481fa6e6a4b  Tue Apr 03 18:00:08 +0000 2012   \n",
       "\n",
       "   Timezone_Offset        Lat       Long     Category Country_Code  \n",
       "0            240.0  55.696132  37.557842  Comedy Club           RU  \n",
       "1            180.0  41.029717  28.974420          Bar           TR  \n",
       "2           -240.0  40.748954 -73.992257  Coffee Shop           US  \n",
       "3           -300.0  30.270786 -97.753153       Office           US  \n",
       "4           -180.0 -29.169531 -51.179939       School           BR  "
      ]
     },
     "execution_count": 14,
     "metadata": {},
     "output_type": "execute_result"
    }
   ],
   "source": [
    "df.head()"
   ]
  },
  {
   "cell_type": "code",
   "execution_count": 15,
   "metadata": {},
   "outputs": [],
   "source": [
    "df.to_csv(\"gender-checkins-complete.csv\",sep = '\\t')"
   ]
  },
  {
   "cell_type": "markdown",
   "metadata": {},
   "source": [
    "# 메모리 기반 협업 필터링을 통한 User의 다음 체크인 장소 예측 알고리즘 구현"
   ]
  },
  {
   "cell_type": "code",
   "execution_count": 16,
   "metadata": {},
   "outputs": [],
   "source": [
    "import pandas as pd\n",
    "import numpy as np\n",
    "from matplotlib import pyplot as plt"
   ]
  },
  {
   "cell_type": "code",
   "execution_count": 34,
   "metadata": {},
   "outputs": [],
   "source": [
    "# Check-In Data\n",
    "check_ins = pd.read_csv('gender-checkins-complete.csv', delimiter='\\t', index_col=0)"
   ]
  },
  {
   "cell_type": "code",
   "execution_count": 35,
   "metadata": {},
   "outputs": [
    {
     "data": {
      "text/html": [
       "<div>\n",
       "<style scoped>\n",
       "    .dataframe tbody tr th:only-of-type {\n",
       "        vertical-align: middle;\n",
       "    }\n",
       "\n",
       "    .dataframe tbody tr th {\n",
       "        vertical-align: top;\n",
       "    }\n",
       "\n",
       "    .dataframe thead th {\n",
       "        text-align: right;\n",
       "    }\n",
       "</style>\n",
       "<table border=\"1\" class=\"dataframe\">\n",
       "  <thead>\n",
       "    <tr style=\"text-align: right;\">\n",
       "      <th></th>\n",
       "      <th>User_ID</th>\n",
       "      <th>Venue_ID</th>\n",
       "      <th>UTC_Time</th>\n",
       "      <th>Timezone_Offset</th>\n",
       "      <th>Lat</th>\n",
       "      <th>Long</th>\n",
       "      <th>Category</th>\n",
       "      <th>Country_Code</th>\n",
       "    </tr>\n",
       "  </thead>\n",
       "  <tbody>\n",
       "    <tr>\n",
       "      <th>0</th>\n",
       "      <td>546830</td>\n",
       "      <td>4f5e3a72e4b053fd6a4313f6</td>\n",
       "      <td>Tue Apr 03 18:00:06 +0000 2012</td>\n",
       "      <td>240.0</td>\n",
       "      <td>55.696132</td>\n",
       "      <td>37.557842</td>\n",
       "      <td>Comedy Club</td>\n",
       "      <td>RU</td>\n",
       "    </tr>\n",
       "    <tr>\n",
       "      <th>1</th>\n",
       "      <td>822121</td>\n",
       "      <td>4b4b87b5f964a5204a9f26e3</td>\n",
       "      <td>Tue Apr 03 18:00:07 +0000 2012</td>\n",
       "      <td>180.0</td>\n",
       "      <td>41.029717</td>\n",
       "      <td>28.974420</td>\n",
       "      <td>Bar</td>\n",
       "      <td>TR</td>\n",
       "    </tr>\n",
       "    <tr>\n",
       "      <th>2</th>\n",
       "      <td>2277773</td>\n",
       "      <td>4a85b1b3f964a520eefe1fe3</td>\n",
       "      <td>Tue Apr 03 18:00:08 +0000 2012</td>\n",
       "      <td>-240.0</td>\n",
       "      <td>40.748954</td>\n",
       "      <td>-73.992257</td>\n",
       "      <td>Coffee Shop</td>\n",
       "      <td>US</td>\n",
       "    </tr>\n",
       "    <tr>\n",
       "      <th>3</th>\n",
       "      <td>208842</td>\n",
       "      <td>4b4606f2f964a520751426e3</td>\n",
       "      <td>Tue Apr 03 18:00:08 +0000 2012</td>\n",
       "      <td>-300.0</td>\n",
       "      <td>30.270786</td>\n",
       "      <td>-97.753153</td>\n",
       "      <td>Office</td>\n",
       "      <td>US</td>\n",
       "    </tr>\n",
       "    <tr>\n",
       "      <th>4</th>\n",
       "      <td>1139878</td>\n",
       "      <td>4d9254ef62ad5481fa6e6a4b</td>\n",
       "      <td>Tue Apr 03 18:00:08 +0000 2012</td>\n",
       "      <td>-180.0</td>\n",
       "      <td>-29.169531</td>\n",
       "      <td>-51.179939</td>\n",
       "      <td>School</td>\n",
       "      <td>BR</td>\n",
       "    </tr>\n",
       "  </tbody>\n",
       "</table>\n",
       "</div>"
      ],
      "text/plain": [
       "   User_ID                  Venue_ID                        UTC_Time  \\\n",
       "0   546830  4f5e3a72e4b053fd6a4313f6  Tue Apr 03 18:00:06 +0000 2012   \n",
       "1   822121  4b4b87b5f964a5204a9f26e3  Tue Apr 03 18:00:07 +0000 2012   \n",
       "2  2277773  4a85b1b3f964a520eefe1fe3  Tue Apr 03 18:00:08 +0000 2012   \n",
       "3   208842  4b4606f2f964a520751426e3  Tue Apr 03 18:00:08 +0000 2012   \n",
       "4  1139878  4d9254ef62ad5481fa6e6a4b  Tue Apr 03 18:00:08 +0000 2012   \n",
       "\n",
       "   Timezone_Offset        Lat       Long     Category Country_Code  \n",
       "0            240.0  55.696132  37.557842  Comedy Club           RU  \n",
       "1            180.0  41.029717  28.974420          Bar           TR  \n",
       "2           -240.0  40.748954 -73.992257  Coffee Shop           US  \n",
       "3           -300.0  30.270786 -97.753153       Office           US  \n",
       "4           -180.0 -29.169531 -51.179939       School           BR  "
      ]
     },
     "execution_count": 35,
     "metadata": {},
     "output_type": "execute_result"
    }
   ],
   "source": [
    "check_ins.head()"
   ]
  },
  {
   "cell_type": "markdown",
   "metadata": {},
   "source": [
    "## Preprocessing"
   ]
  },
  {
   "cell_type": "code",
   "execution_count": 36,
   "metadata": {},
   "outputs": [],
   "source": [
    "threshold = 80 # 스레스홀드 미만인 체크인 기록 보유 user는 제거하고 보도록.\n",
    "\n",
    "value_counts = check_ins['User_ID'].value_counts() # Specific column \n",
    "to_remove = value_counts[value_counts <= threshold].index\n",
    "check_ins = check_ins[~check_ins['User_ID'].isin(to_remove)]"
   ]
  },
  {
   "cell_type": "code",
   "execution_count": 37,
   "metadata": {},
   "outputs": [
    {
     "data": {
      "text/plain": [
       "'There are 12438445 check-ins, made by 77635 users, in 2572190 venues.'"
      ]
     },
     "execution_count": 37,
     "metadata": {},
     "output_type": "execute_result"
    }
   ],
   "source": [
    "\"There are %d check-ins, made by %d users, in %d venues.\" %(len(check_ins)\n",
    ", check_ins['User_ID'].nunique(), check_ins['Venue_ID'].nunique())"
   ]
  },
  {
   "cell_type": "code",
   "execution_count": 39,
   "metadata": {},
   "outputs": [
    {
     "data": {
      "text/html": [
       "<div>\n",
       "<style scoped>\n",
       "    .dataframe tbody tr th:only-of-type {\n",
       "        vertical-align: middle;\n",
       "    }\n",
       "\n",
       "    .dataframe tbody tr th {\n",
       "        vertical-align: top;\n",
       "    }\n",
       "\n",
       "    .dataframe thead th {\n",
       "        text-align: right;\n",
       "    }\n",
       "</style>\n",
       "<table border=\"1\" class=\"dataframe\">\n",
       "  <thead>\n",
       "    <tr style=\"text-align: right;\">\n",
       "      <th></th>\n",
       "      <th>User_ID</th>\n",
       "      <th>Venue_ID</th>\n",
       "      <th>UTC_Time</th>\n",
       "      <th>Timezone_Offset</th>\n",
       "      <th>Lat</th>\n",
       "      <th>Long</th>\n",
       "      <th>Category</th>\n",
       "      <th>Country_Code</th>\n",
       "    </tr>\n",
       "  </thead>\n",
       "  <tbody>\n",
       "    <tr>\n",
       "      <th>5673346</th>\n",
       "      <td>15</td>\n",
       "      <td>4bb14a0cf964a520e9893ce3</td>\n",
       "      <td>Wed Apr 25 21:12:50 +0000 2012</td>\n",
       "      <td>-420.0</td>\n",
       "      <td>36.292377</td>\n",
       "      <td>-119.325095</td>\n",
       "      <td>General College &amp; University</td>\n",
       "      <td>US</td>\n",
       "    </tr>\n",
       "    <tr>\n",
       "      <th>5678957</th>\n",
       "      <td>15</td>\n",
       "      <td>4c05a640d3842d7fe488be41</td>\n",
       "      <td>Wed Apr 25 21:56:17 +0000 2012</td>\n",
       "      <td>-420.0</td>\n",
       "      <td>36.323795</td>\n",
       "      <td>-119.348035</td>\n",
       "      <td>Gym</td>\n",
       "      <td>US</td>\n",
       "    </tr>\n",
       "    <tr>\n",
       "      <th>5706331</th>\n",
       "      <td>15</td>\n",
       "      <td>4b4cfad1f964a5206ec626e3</td>\n",
       "      <td>Wed Apr 25 23:56:45 +0000 2012</td>\n",
       "      <td>-420.0</td>\n",
       "      <td>36.312187</td>\n",
       "      <td>-119.313529</td>\n",
       "      <td>Caf��</td>\n",
       "      <td>US</td>\n",
       "    </tr>\n",
       "    <tr>\n",
       "      <th>6028531</th>\n",
       "      <td>15</td>\n",
       "      <td>4bb14a0cf964a520e9893ce3</td>\n",
       "      <td>Fri Apr 27 15:16:23 +0000 2012</td>\n",
       "      <td>-420.0</td>\n",
       "      <td>36.292377</td>\n",
       "      <td>-119.325095</td>\n",
       "      <td>General College &amp; University</td>\n",
       "      <td>US</td>\n",
       "    </tr>\n",
       "    <tr>\n",
       "      <th>6028679</th>\n",
       "      <td>15</td>\n",
       "      <td>4daf9aa9a86e9639ef511717</td>\n",
       "      <td>Fri Apr 27 15:16:54 +0000 2012</td>\n",
       "      <td>-420.0</td>\n",
       "      <td>36.292787</td>\n",
       "      <td>-119.325866</td>\n",
       "      <td>Field</td>\n",
       "      <td>US</td>\n",
       "    </tr>\n",
       "    <tr>\n",
       "      <th>...</th>\n",
       "      <td>...</td>\n",
       "      <td>...</td>\n",
       "      <td>...</td>\n",
       "      <td>...</td>\n",
       "      <td>...</td>\n",
       "      <td>...</td>\n",
       "      <td>...</td>\n",
       "      <td>...</td>\n",
       "    </tr>\n",
       "    <tr>\n",
       "      <th>25859047</th>\n",
       "      <td>2456374</td>\n",
       "      <td>4c1decfeb306c928004d66b7</td>\n",
       "      <td>Sun Aug 12 17:48:16 +0000 2012</td>\n",
       "      <td>480.0</td>\n",
       "      <td>-0.496481</td>\n",
       "      <td>117.145715</td>\n",
       "      <td>Coffee Shop</td>\n",
       "      <td>ID</td>\n",
       "    </tr>\n",
       "    <tr>\n",
       "      <th>25859122</th>\n",
       "      <td>2456374</td>\n",
       "      <td>4be7ecddee96c928af6cfdbf</td>\n",
       "      <td>Sun Aug 12 17:48:45 +0000 2012</td>\n",
       "      <td>480.0</td>\n",
       "      <td>-0.497107</td>\n",
       "      <td>117.145177</td>\n",
       "      <td>Hotel</td>\n",
       "      <td>ID</td>\n",
       "    </tr>\n",
       "    <tr>\n",
       "      <th>25956637</th>\n",
       "      <td>2456374</td>\n",
       "      <td>4bf5d6bbc07c9c74034abbef</td>\n",
       "      <td>Mon Aug 13 14:21:06 +0000 2012</td>\n",
       "      <td>480.0</td>\n",
       "      <td>-0.495215</td>\n",
       "      <td>117.143945</td>\n",
       "      <td>Police Station</td>\n",
       "      <td>ID</td>\n",
       "    </tr>\n",
       "    <tr>\n",
       "      <th>25957843</th>\n",
       "      <td>2456374</td>\n",
       "      <td>4c7aeaf3794e224b492e6a28</td>\n",
       "      <td>Mon Aug 13 14:27:24 +0000 2012</td>\n",
       "      <td>480.0</td>\n",
       "      <td>-0.487858</td>\n",
       "      <td>117.147607</td>\n",
       "      <td>High School</td>\n",
       "      <td>ID</td>\n",
       "    </tr>\n",
       "    <tr>\n",
       "      <th>25957924</th>\n",
       "      <td>2456374</td>\n",
       "      <td>4c2e1b5d4e132d7fc48a9ddf</td>\n",
       "      <td>Mon Aug 13 14:27:50 +0000 2012</td>\n",
       "      <td>480.0</td>\n",
       "      <td>-0.485147</td>\n",
       "      <td>117.148515</td>\n",
       "      <td>High School</td>\n",
       "      <td>ID</td>\n",
       "    </tr>\n",
       "  </tbody>\n",
       "</table>\n",
       "<p>7431739 rows × 8 columns</p>\n",
       "</div>"
      ],
      "text/plain": [
       "          User_ID                  Venue_ID                        UTC_Time  \\\n",
       "5673346        15  4bb14a0cf964a520e9893ce3  Wed Apr 25 21:12:50 +0000 2012   \n",
       "5678957        15  4c05a640d3842d7fe488be41  Wed Apr 25 21:56:17 +0000 2012   \n",
       "5706331        15  4b4cfad1f964a5206ec626e3  Wed Apr 25 23:56:45 +0000 2012   \n",
       "6028531        15  4bb14a0cf964a520e9893ce3  Fri Apr 27 15:16:23 +0000 2012   \n",
       "6028679        15  4daf9aa9a86e9639ef511717  Fri Apr 27 15:16:54 +0000 2012   \n",
       "...           ...                       ...                             ...   \n",
       "25859047  2456374  4c1decfeb306c928004d66b7  Sun Aug 12 17:48:16 +0000 2012   \n",
       "25859122  2456374  4be7ecddee96c928af6cfdbf  Sun Aug 12 17:48:45 +0000 2012   \n",
       "25956637  2456374  4bf5d6bbc07c9c74034abbef  Mon Aug 13 14:21:06 +0000 2012   \n",
       "25957843  2456374  4c7aeaf3794e224b492e6a28  Mon Aug 13 14:27:24 +0000 2012   \n",
       "25957924  2456374  4c2e1b5d4e132d7fc48a9ddf  Mon Aug 13 14:27:50 +0000 2012   \n",
       "\n",
       "          Timezone_Offset        Lat        Long  \\\n",
       "5673346            -420.0  36.292377 -119.325095   \n",
       "5678957            -420.0  36.323795 -119.348035   \n",
       "5706331            -420.0  36.312187 -119.313529   \n",
       "6028531            -420.0  36.292377 -119.325095   \n",
       "6028679            -420.0  36.292787 -119.325866   \n",
       "...                   ...        ...         ...   \n",
       "25859047            480.0  -0.496481  117.145715   \n",
       "25859122            480.0  -0.497107  117.145177   \n",
       "25956637            480.0  -0.495215  117.143945   \n",
       "25957843            480.0  -0.487858  117.147607   \n",
       "25957924            480.0  -0.485147  117.148515   \n",
       "\n",
       "                              Category Country_Code  \n",
       "5673346   General College & University           US  \n",
       "5678957                            Gym           US  \n",
       "5706331                          Caf��           US  \n",
       "6028531   General College & University           US  \n",
       "6028679                          Field           US  \n",
       "...                                ...          ...  \n",
       "25859047                   Coffee Shop           ID  \n",
       "25859122                         Hotel           ID  \n",
       "25956637                Police Station           ID  \n",
       "25957843                   High School           ID  \n",
       "25957924                   High School           ID  \n",
       "\n",
       "[7431739 rows x 8 columns]"
      ]
     },
     "execution_count": 39,
     "metadata": {},
     "output_type": "execute_result"
    }
   ],
   "source": [
    "#split into train/test\n",
    "split = 0.6\n",
    "\n",
    "X_train = (check_ins.groupby('User_ID',group_keys=False)\n",
    "        .apply(lambda x: x.nlargest(int(len(x) * split), 'User_ID')))\n",
    "X_train"
   ]
  },
  {
   "cell_type": "code",
   "execution_count": 40,
   "metadata": {},
   "outputs": [],
   "source": [
    "X_test = check_ins[~check_ins.isin(X_train)].dropna()"
   ]
  },
  {
   "cell_type": "code",
   "execution_count": 41,
   "metadata": {},
   "outputs": [],
   "source": [
    "X_train_counts = X_train.groupby(['User_ID','Venue_ID']).size().reset_index(name=\"Frequency\")"
   ]
  },
  {
   "cell_type": "code",
   "execution_count": 42,
   "metadata": {},
   "outputs": [],
   "source": [
    "Total_Visits = X_train.groupby(['User_ID']).size().reset_index(name=\"Total_Visits\")\n",
    "X_train_counts = pd.merge(X_train_counts, Total_Visits, on = 'User_ID', how='left', sort = 'False')\n",
    "del X_train"
   ]
  },
  {
   "cell_type": "code",
   "execution_count": 43,
   "metadata": {},
   "outputs": [
    {
     "data": {
      "text/plain": [
       "95.72665679139563"
      ]
     },
     "execution_count": 43,
     "metadata": {},
     "output_type": "execute_result"
    }
   ],
   "source": [
    "np.mean(Total_Visits['Total_Visits'])"
   ]
  },
  {
   "cell_type": "code",
   "execution_count": 44,
   "metadata": {},
   "outputs": [],
   "source": [
    "X_train_counts['Adj_Freq'] = X_train_counts['Frequency'] / X_train_counts['Total_Visits'] * 1.0"
   ]
  },
  {
   "cell_type": "code",
   "execution_count": 45,
   "metadata": {},
   "outputs": [
    {
     "data": {
      "text/plain": [
       "0          0.009009\n",
       "1          0.009009\n",
       "2          0.018018\n",
       "3          0.009009\n",
       "4          0.009009\n",
       "             ...   \n",
       "3518606    0.015152\n",
       "3518607    0.015152\n",
       "3518608    0.015152\n",
       "3518609    0.015152\n",
       "3518610    0.015152\n",
       "Name: Adj_Freq, Length: 3518611, dtype: float64"
      ]
     },
     "execution_count": 45,
     "metadata": {},
     "output_type": "execute_result"
    }
   ],
   "source": [
    "X_train_counts['Adj_Freq']"
   ]
  },
  {
   "cell_type": "code",
   "execution_count": 46,
   "metadata": {},
   "outputs": [
    {
     "data": {
      "text/html": [
       "<div>\n",
       "<style scoped>\n",
       "    .dataframe tbody tr th:only-of-type {\n",
       "        vertical-align: middle;\n",
       "    }\n",
       "\n",
       "    .dataframe tbody tr th {\n",
       "        vertical-align: top;\n",
       "    }\n",
       "\n",
       "    .dataframe thead th {\n",
       "        text-align: right;\n",
       "    }\n",
       "</style>\n",
       "<table border=\"1\" class=\"dataframe\">\n",
       "  <thead>\n",
       "    <tr style=\"text-align: right;\">\n",
       "      <th></th>\n",
       "      <th>User_ID</th>\n",
       "      <th>Venue_ID</th>\n",
       "      <th>Frequency</th>\n",
       "      <th>Total_Visits</th>\n",
       "      <th>Adj_Freq</th>\n",
       "    </tr>\n",
       "  </thead>\n",
       "  <tbody>\n",
       "    <tr>\n",
       "      <th>0</th>\n",
       "      <td>15</td>\n",
       "      <td>4a9700d4f964a520e92720e3</td>\n",
       "      <td>1</td>\n",
       "      <td>111</td>\n",
       "      <td>0.009009</td>\n",
       "    </tr>\n",
       "    <tr>\n",
       "      <th>1</th>\n",
       "      <td>15</td>\n",
       "      <td>4af91213f964a520ed1022e3</td>\n",
       "      <td>1</td>\n",
       "      <td>111</td>\n",
       "      <td>0.009009</td>\n",
       "    </tr>\n",
       "    <tr>\n",
       "      <th>2</th>\n",
       "      <td>15</td>\n",
       "      <td>4b12001af964a520068823e3</td>\n",
       "      <td>2</td>\n",
       "      <td>111</td>\n",
       "      <td>0.018018</td>\n",
       "    </tr>\n",
       "    <tr>\n",
       "      <th>3</th>\n",
       "      <td>15</td>\n",
       "      <td>4b220ceef964a5206d4324e3</td>\n",
       "      <td>1</td>\n",
       "      <td>111</td>\n",
       "      <td>0.009009</td>\n",
       "    </tr>\n",
       "    <tr>\n",
       "      <th>4</th>\n",
       "      <td>15</td>\n",
       "      <td>4b43bbbaf964a520e9e725e3</td>\n",
       "      <td>1</td>\n",
       "      <td>111</td>\n",
       "      <td>0.009009</td>\n",
       "    </tr>\n",
       "  </tbody>\n",
       "</table>\n",
       "</div>"
      ],
      "text/plain": [
       "   User_ID                  Venue_ID  Frequency  Total_Visits  Adj_Freq\n",
       "0       15  4a9700d4f964a520e92720e3          1           111  0.009009\n",
       "1       15  4af91213f964a520ed1022e3          1           111  0.009009\n",
       "2       15  4b12001af964a520068823e3          2           111  0.018018\n",
       "3       15  4b220ceef964a5206d4324e3          1           111  0.009009\n",
       "4       15  4b43bbbaf964a520e9e725e3          1           111  0.009009"
      ]
     },
     "execution_count": 46,
     "metadata": {},
     "output_type": "execute_result"
    }
   ],
   "source": [
    "X_train_counts.head()"
   ]
  },
  {
   "cell_type": "code",
   "execution_count": 47,
   "metadata": {},
   "outputs": [
    {
     "name": "stderr",
     "output_type": "stream",
     "text": [
      "c:\\Users\\piai\\anaconda3\\lib\\site-packages\\pandas\\core\\reshape\\reshape.py:130: RuntimeWarning: overflow encountered in long_scalars\n",
      "  num_cells = num_rows * num_columns\n"
     ]
    },
    {
     "ename": "ValueError",
     "evalue": "negative dimensions are not allowed",
     "output_type": "error",
     "traceback": [
      "\u001b[1;31m---------------------------------------------------------------------------\u001b[0m",
      "\u001b[1;31mValueError\u001b[0m                                Traceback (most recent call last)",
      "\u001b[1;32mc:\\Users\\piai\\Desktop\\code_file\\Memory_Based_CF_to_Predict_a_user's_next_Foursquare_Check-In_to_a_Location.ipynb Cell 26'\u001b[0m in \u001b[0;36m<cell line: 1>\u001b[1;34m()\u001b[0m\n\u001b[1;32m----> <a href='vscode-notebook-cell:/c%3A/Users/piai/Desktop/code_file/Memory_Based_CF_to_Predict_a_user%27s_next_Foursquare_Check-In_to_a_Location.ipynb#ch0000029?line=0'>1</a>\u001b[0m X_train_counts \u001b[39m=\u001b[39m X_train_counts\u001b[39m.\u001b[39;49mpivot(index\u001b[39m=\u001b[39;49m\u001b[39m'\u001b[39;49m\u001b[39mUser_ID\u001b[39;49m\u001b[39m'\u001b[39;49m, columns\u001b[39m=\u001b[39;49m\u001b[39m'\u001b[39;49m\u001b[39mVenue_ID\u001b[39;49m\u001b[39m'\u001b[39;49m, values\u001b[39m=\u001b[39;49m\u001b[39m'\u001b[39;49m\u001b[39mAdj_Freq\u001b[39;49m\u001b[39m'\u001b[39;49m)\n",
      "File \u001b[1;32mc:\\Users\\piai\\anaconda3\\lib\\site-packages\\pandas\\core\\frame.py:7876\u001b[0m, in \u001b[0;36mDataFrame.pivot\u001b[1;34m(self, index, columns, values)\u001b[0m\n\u001b[0;32m   <a href='file:///c%3A/Users/piai/anaconda3/lib/site-packages/pandas/core/frame.py?line=7870'>7871</a>\u001b[0m \u001b[39m@Substitution\u001b[39m(\u001b[39m\"\u001b[39m\u001b[39m\"\u001b[39m)\n\u001b[0;32m   <a href='file:///c%3A/Users/piai/anaconda3/lib/site-packages/pandas/core/frame.py?line=7871'>7872</a>\u001b[0m \u001b[39m@Appender\u001b[39m(_shared_docs[\u001b[39m\"\u001b[39m\u001b[39mpivot\u001b[39m\u001b[39m\"\u001b[39m])\n\u001b[0;32m   <a href='file:///c%3A/Users/piai/anaconda3/lib/site-packages/pandas/core/frame.py?line=7872'>7873</a>\u001b[0m \u001b[39mdef\u001b[39;00m \u001b[39mpivot\u001b[39m(\u001b[39mself\u001b[39m, index\u001b[39m=\u001b[39m\u001b[39mNone\u001b[39;00m, columns\u001b[39m=\u001b[39m\u001b[39mNone\u001b[39;00m, values\u001b[39m=\u001b[39m\u001b[39mNone\u001b[39;00m) \u001b[39m-\u001b[39m\u001b[39m>\u001b[39m DataFrame:\n\u001b[0;32m   <a href='file:///c%3A/Users/piai/anaconda3/lib/site-packages/pandas/core/frame.py?line=7873'>7874</a>\u001b[0m     \u001b[39mfrom\u001b[39;00m \u001b[39mpandas\u001b[39;00m\u001b[39m.\u001b[39;00m\u001b[39mcore\u001b[39;00m\u001b[39m.\u001b[39;00m\u001b[39mreshape\u001b[39;00m\u001b[39m.\u001b[39;00m\u001b[39mpivot\u001b[39;00m \u001b[39mimport\u001b[39;00m pivot\n\u001b[1;32m-> <a href='file:///c%3A/Users/piai/anaconda3/lib/site-packages/pandas/core/frame.py?line=7875'>7876</a>\u001b[0m     \u001b[39mreturn\u001b[39;00m pivot(\u001b[39mself\u001b[39;49m, index\u001b[39m=\u001b[39;49mindex, columns\u001b[39m=\u001b[39;49mcolumns, values\u001b[39m=\u001b[39;49mvalues)\n",
      "File \u001b[1;32mc:\\Users\\piai\\anaconda3\\lib\\site-packages\\pandas\\core\\reshape\\pivot.py:520\u001b[0m, in \u001b[0;36mpivot\u001b[1;34m(data, index, columns, values)\u001b[0m\n\u001b[0;32m    <a href='file:///c%3A/Users/piai/anaconda3/lib/site-packages/pandas/core/reshape/pivot.py?line=517'>518</a>\u001b[0m     \u001b[39melse\u001b[39;00m:\n\u001b[0;32m    <a href='file:///c%3A/Users/piai/anaconda3/lib/site-packages/pandas/core/reshape/pivot.py?line=518'>519</a>\u001b[0m         indexed \u001b[39m=\u001b[39m data\u001b[39m.\u001b[39m_constructor_sliced(data[values]\u001b[39m.\u001b[39m_values, index\u001b[39m=\u001b[39mmultiindex)\n\u001b[1;32m--> <a href='file:///c%3A/Users/piai/anaconda3/lib/site-packages/pandas/core/reshape/pivot.py?line=519'>520</a>\u001b[0m \u001b[39mreturn\u001b[39;00m indexed\u001b[39m.\u001b[39;49munstack(columns_listlike)\n",
      "File \u001b[1;32mc:\\Users\\piai\\anaconda3\\lib\\site-packages\\pandas\\core\\series.py:4157\u001b[0m, in \u001b[0;36mSeries.unstack\u001b[1;34m(self, level, fill_value)\u001b[0m\n\u001b[0;32m   <a href='file:///c%3A/Users/piai/anaconda3/lib/site-packages/pandas/core/series.py?line=4113'>4114</a>\u001b[0m \u001b[39m\"\"\"\u001b[39;00m\n\u001b[0;32m   <a href='file:///c%3A/Users/piai/anaconda3/lib/site-packages/pandas/core/series.py?line=4114'>4115</a>\u001b[0m \u001b[39mUnstack, also known as pivot, Series with MultiIndex to produce DataFrame.\u001b[39;00m\n\u001b[0;32m   <a href='file:///c%3A/Users/piai/anaconda3/lib/site-packages/pandas/core/series.py?line=4115'>4116</a>\u001b[0m \n\u001b[1;32m   (...)\u001b[0m\n\u001b[0;32m   <a href='file:///c%3A/Users/piai/anaconda3/lib/site-packages/pandas/core/series.py?line=4152'>4153</a>\u001b[0m \u001b[39mb    2    4\u001b[39;00m\n\u001b[0;32m   <a href='file:///c%3A/Users/piai/anaconda3/lib/site-packages/pandas/core/series.py?line=4153'>4154</a>\u001b[0m \u001b[39m\"\"\"\u001b[39;00m\n\u001b[0;32m   <a href='file:///c%3A/Users/piai/anaconda3/lib/site-packages/pandas/core/series.py?line=4154'>4155</a>\u001b[0m \u001b[39mfrom\u001b[39;00m \u001b[39mpandas\u001b[39;00m\u001b[39m.\u001b[39;00m\u001b[39mcore\u001b[39;00m\u001b[39m.\u001b[39;00m\u001b[39mreshape\u001b[39;00m\u001b[39m.\u001b[39;00m\u001b[39mreshape\u001b[39;00m \u001b[39mimport\u001b[39;00m unstack\n\u001b[1;32m-> <a href='file:///c%3A/Users/piai/anaconda3/lib/site-packages/pandas/core/series.py?line=4156'>4157</a>\u001b[0m \u001b[39mreturn\u001b[39;00m unstack(\u001b[39mself\u001b[39;49m, level, fill_value)\n",
      "File \u001b[1;32mc:\\Users\\piai\\anaconda3\\lib\\site-packages\\pandas\\core\\reshape\\reshape.py:491\u001b[0m, in \u001b[0;36munstack\u001b[1;34m(obj, level, fill_value)\u001b[0m\n\u001b[0;32m    <a href='file:///c%3A/Users/piai/anaconda3/lib/site-packages/pandas/core/reshape/reshape.py?line=488'>489</a>\u001b[0m \u001b[39mif\u001b[39;00m is_1d_only_ea_dtype(obj\u001b[39m.\u001b[39mdtype):\n\u001b[0;32m    <a href='file:///c%3A/Users/piai/anaconda3/lib/site-packages/pandas/core/reshape/reshape.py?line=489'>490</a>\u001b[0m     \u001b[39mreturn\u001b[39;00m _unstack_extension_series(obj, level, fill_value)\n\u001b[1;32m--> <a href='file:///c%3A/Users/piai/anaconda3/lib/site-packages/pandas/core/reshape/reshape.py?line=490'>491</a>\u001b[0m unstacker \u001b[39m=\u001b[39m _Unstacker(\n\u001b[0;32m    <a href='file:///c%3A/Users/piai/anaconda3/lib/site-packages/pandas/core/reshape/reshape.py?line=491'>492</a>\u001b[0m     obj\u001b[39m.\u001b[39;49mindex, level\u001b[39m=\u001b[39;49mlevel, constructor\u001b[39m=\u001b[39;49mobj\u001b[39m.\u001b[39;49m_constructor_expanddim\n\u001b[0;32m    <a href='file:///c%3A/Users/piai/anaconda3/lib/site-packages/pandas/core/reshape/reshape.py?line=492'>493</a>\u001b[0m )\n\u001b[0;32m    <a href='file:///c%3A/Users/piai/anaconda3/lib/site-packages/pandas/core/reshape/reshape.py?line=493'>494</a>\u001b[0m \u001b[39mreturn\u001b[39;00m unstacker\u001b[39m.\u001b[39mget_result(\n\u001b[0;32m    <a href='file:///c%3A/Users/piai/anaconda3/lib/site-packages/pandas/core/reshape/reshape.py?line=494'>495</a>\u001b[0m     obj\u001b[39m.\u001b[39m_values, value_columns\u001b[39m=\u001b[39m\u001b[39mNone\u001b[39;00m, fill_value\u001b[39m=\u001b[39mfill_value\n\u001b[0;32m    <a href='file:///c%3A/Users/piai/anaconda3/lib/site-packages/pandas/core/reshape/reshape.py?line=495'>496</a>\u001b[0m )\n",
      "File \u001b[1;32mc:\\Users\\piai\\anaconda3\\lib\\site-packages\\pandas\\core\\reshape\\reshape.py:140\u001b[0m, in \u001b[0;36m_Unstacker.__init__\u001b[1;34m(self, index, level, constructor)\u001b[0m\n\u001b[0;32m    <a href='file:///c%3A/Users/piai/anaconda3/lib/site-packages/pandas/core/reshape/reshape.py?line=132'>133</a>\u001b[0m \u001b[39mif\u001b[39;00m num_cells \u001b[39m>\u001b[39m np\u001b[39m.\u001b[39miinfo(np\u001b[39m.\u001b[39mint32)\u001b[39m.\u001b[39mmax:\n\u001b[0;32m    <a href='file:///c%3A/Users/piai/anaconda3/lib/site-packages/pandas/core/reshape/reshape.py?line=133'>134</a>\u001b[0m     warnings\u001b[39m.\u001b[39mwarn(\n\u001b[0;32m    <a href='file:///c%3A/Users/piai/anaconda3/lib/site-packages/pandas/core/reshape/reshape.py?line=134'>135</a>\u001b[0m         \u001b[39mf\u001b[39m\u001b[39m\"\u001b[39m\u001b[39mThe following operation may generate \u001b[39m\u001b[39m{\u001b[39;00mnum_cells\u001b[39m}\u001b[39;00m\u001b[39m cells \u001b[39m\u001b[39m\"\u001b[39m\n\u001b[0;32m    <a href='file:///c%3A/Users/piai/anaconda3/lib/site-packages/pandas/core/reshape/reshape.py?line=135'>136</a>\u001b[0m         \u001b[39mf\u001b[39m\u001b[39m\"\u001b[39m\u001b[39min the resulting pandas object.\u001b[39m\u001b[39m\"\u001b[39m,\n\u001b[0;32m    <a href='file:///c%3A/Users/piai/anaconda3/lib/site-packages/pandas/core/reshape/reshape.py?line=136'>137</a>\u001b[0m         PerformanceWarning,\n\u001b[0;32m    <a href='file:///c%3A/Users/piai/anaconda3/lib/site-packages/pandas/core/reshape/reshape.py?line=137'>138</a>\u001b[0m     )\n\u001b[1;32m--> <a href='file:///c%3A/Users/piai/anaconda3/lib/site-packages/pandas/core/reshape/reshape.py?line=139'>140</a>\u001b[0m \u001b[39mself\u001b[39;49m\u001b[39m.\u001b[39;49m_make_selectors()\n",
      "File \u001b[1;32mc:\\Users\\piai\\anaconda3\\lib\\site-packages\\pandas\\core\\reshape\\reshape.py:188\u001b[0m, in \u001b[0;36m_Unstacker._make_selectors\u001b[1;34m(self)\u001b[0m\n\u001b[0;32m    <a href='file:///c%3A/Users/piai/anaconda3/lib/site-packages/pandas/core/reshape/reshape.py?line=184'>185</a>\u001b[0m \u001b[39mself\u001b[39m\u001b[39m.\u001b[39mfull_shape \u001b[39m=\u001b[39m ngroups, stride\n\u001b[0;32m    <a href='file:///c%3A/Users/piai/anaconda3/lib/site-packages/pandas/core/reshape/reshape.py?line=186'>187</a>\u001b[0m selector \u001b[39m=\u001b[39m \u001b[39mself\u001b[39m\u001b[39m.\u001b[39msorted_labels[\u001b[39m-\u001b[39m\u001b[39m1\u001b[39m] \u001b[39m+\u001b[39m stride \u001b[39m*\u001b[39m comp_index \u001b[39m+\u001b[39m \u001b[39mself\u001b[39m\u001b[39m.\u001b[39mlift\n\u001b[1;32m--> <a href='file:///c%3A/Users/piai/anaconda3/lib/site-packages/pandas/core/reshape/reshape.py?line=187'>188</a>\u001b[0m mask \u001b[39m=\u001b[39m np\u001b[39m.\u001b[39;49mzeros(np\u001b[39m.\u001b[39;49mprod(\u001b[39mself\u001b[39;49m\u001b[39m.\u001b[39;49mfull_shape), dtype\u001b[39m=\u001b[39;49m\u001b[39mbool\u001b[39;49m)\n\u001b[0;32m    <a href='file:///c%3A/Users/piai/anaconda3/lib/site-packages/pandas/core/reshape/reshape.py?line=188'>189</a>\u001b[0m mask\u001b[39m.\u001b[39mput(selector, \u001b[39mTrue\u001b[39;00m)\n\u001b[0;32m    <a href='file:///c%3A/Users/piai/anaconda3/lib/site-packages/pandas/core/reshape/reshape.py?line=190'>191</a>\u001b[0m \u001b[39mif\u001b[39;00m mask\u001b[39m.\u001b[39msum() \u001b[39m<\u001b[39m \u001b[39mlen\u001b[39m(\u001b[39mself\u001b[39m\u001b[39m.\u001b[39mindex):\n",
      "\u001b[1;31mValueError\u001b[0m: negative dimensions are not allowed"
     ]
    }
   ],
   "source": [
    "X_train_counts = X_train_counts.pivot(index='User_ID', columns='Venue_ID', values='Adj_Freq')"
   ]
  },
  {
   "cell_type": "code",
   "execution_count": null,
   "metadata": {},
   "outputs": [],
   "source": [
    "X_train_counts = X_train_counts.fillna(0)"
   ]
  },
  {
   "cell_type": "code",
   "execution_count": null,
   "metadata": {},
   "outputs": [],
   "source": []
  }
 ],
 "metadata": {
  "interpreter": {
   "hash": "469f5bf348903c84c227f25e304cecd0f96e18b1b51d089494c9d7592f41607d"
  },
  "kernelspec": {
   "display_name": "Python 3.9.12 ('base')",
   "language": "python",
   "name": "python3"
  },
  "language_info": {
   "codemirror_mode": {
    "name": "ipython",
    "version": 3
   },
   "file_extension": ".py",
   "mimetype": "text/x-python",
   "name": "python",
   "nbconvert_exporter": "python",
   "pygments_lexer": "ipython3",
   "version": "3.9.12"
  },
  "orig_nbformat": 4
 },
 "nbformat": 4,
 "nbformat_minor": 2
}
